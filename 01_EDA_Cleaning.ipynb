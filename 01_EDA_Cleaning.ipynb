{
 "cells": [
  {
   "cell_type": "markdown",
   "metadata": {},
   "source": [
    "## Basic Data Preprocessing  \n",
    "\n",
    "- open_date, pre_open_date int type으로 변경  \n",
    "- play_st_time, tran_time의 데이터 형태를 변경해줄지?=> DateTime  \n",
    "- Nan값 처리 [age, gender, 멤버십들, discount_type, open_date, pre_open_date, running_time, intermission]  \n",
    "- 좌석 공백기준으로 구분하기  \n",
    "- 날짜에 따라 요일 column 만들기  \n",
    "- 할인명, 할인률 구분하기  \n",
    "\n",
    "** pre_open_date : 예술의전당 유료회원 상대로 미리 예매를 할 수 있는 하루 전 혜택, 기획자/대관자의 선택에 의해 결정  \n",
    "pre_open_date가 하루 전으로 되어있는지 확인  \n",
    "Yes, no로 labeling"
   ]
  },
  {
   "cell_type": "code",
   "execution_count": null,
   "metadata": {},
   "outputs": [],
   "source": [
    "import pandas as pd \n",
    "import matplotlib.pyplot as plt\n",
    "import seaborn as sns\n",
    "\n",
    "df = pd.read_csv('./dataset/2023bigcontest_advanced_sac.csv')\n"
   ]
  }
 ],
 "metadata": {
  "language_info": {
   "name": "python"
  },
  "orig_nbformat": 4
 },
 "nbformat": 4,
 "nbformat_minor": 2
}
